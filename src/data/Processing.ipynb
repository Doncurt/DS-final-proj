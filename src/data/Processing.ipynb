{
 "cells": [
  {
   "cell_type": "code",
   "execution_count": null,
   "metadata": {
    "collapsed": true
   },
   "outputs": [],
   "source": [
    "import math\n",
    "df=pd.read_csv('Cleaned.csv')\n",
    "\n",
    "# # #used to calulat explosive force\n",
    "# # def comparable(x):\n",
    "# #   if x <= 0.0005:\n",
    "# #     return 1\n",
    "# #   elif x > 0.0006 and x <= 0.004:\n",
    "# #     return 2\n",
    "# #   elif x > 0.005 and x <= 0.009:\n",
    "# #     return 3\n",
    "# #   elif x >0.01 and x <= 0.02:\n",
    "# #     return 4\n",
    "# #   elif x > 0.02 and x<= 50:\n",
    "# #     return 5\n",
    "# #   elif x > 50 and x <= 200:\n",
    "# #     return 6\n",
    "# #   elif x > 200 and x<= 1000:\n",
    "# #     return 7\n",
    "# #   elif x>1000 and x<=5000:\n",
    "# #     return 8\n",
    "# #   elif x> 5000:\n",
    "# #     return 9\n",
    "# def comparable(x):\n",
    "#     if x<=0.0005:\n",
    "#         return 'Large city block'\n",
    "#     elif x > 0.0006 and x <= 0.004:\n",
    "#         return 'Multiple city blocks'\n",
    "#     elif x > 0.005 and x <= 0.009:\n",
    "#         return 'Levels half large city'\n",
    "#     elif x >0.01 and x <= 0.02:\n",
    "#         return 'Levels most large city'\n",
    "#     elif x > 0.02 and x<= 50:\n",
    "#         return 'Entirety of Paris destroyed'\n",
    "#     elif x > 50 and x <= 200:\n",
    "#         return 'Mount Krakatoa comparable'\n",
    "#     elif x > 200 and x<= 1000:\n",
    "#         return 'Minor extiction event'\n",
    "#     elif x>1000 and x<=5000:\n",
    "#         return 'Continent exterminated'\n",
    "#     elif x> 5000:\n",
    "#         return 'Major extinction event'\n",
    "\n",
    "# def extinction_event(x):\n",
    "#     if x == 'Major extinction event' or x== 'Major extinction event':\n",
    "#         return 1\n",
    "#     else:\n",
    "#         return 0\n",
    "\n",
    "# # setting new df to existing dataframe\n",
    "# df['Damage']=df['Megatons(TNT)'].map(lambda x:comparable(x))\n",
    "\n",
    "# df['Extinction']= df['Damage'].map(lambda x: extinction_event(x) )\n",
    "# # # we only need the year for this part of the analysis due to the closeness in time it would produce alot of noise\n",
    "# # df[\"Close-Approach (CA) Date\"]=df[\"Close-Approach (CA) Date\"].map(lambda x:x.split('-', 1)[0])\n",
    "# # #turn the date into an into for easir time later\n",
    "# df[\"Close-Approach (CA) Date\"]=df[\"Close-Approach (CA) Date\"].map(lambda x:int(x))\n",
    "\n",
    "# \n",
    "# df[\"Close-Approach (CA) Date\"]"
   ]
  }
 ],
 "metadata": {
  "kernelspec": {
   "display_name": "Python 3",
   "language": "python",
   "name": "python3"
  },
  "language_info": {
   "codemirror_mode": {
    "name": "ipython",
    "version": 3
   },
   "file_extension": ".py",
   "mimetype": "text/x-python",
   "name": "python",
   "nbconvert_exporter": "python",
   "pygments_lexer": "ipython3",
   "version": "3.6.3"
  }
 },
 "nbformat": 4,
 "nbformat_minor": 2
}
