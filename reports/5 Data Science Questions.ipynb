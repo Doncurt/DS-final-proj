{
 "cells": [
  {
   "cell_type": "markdown",
   "metadata": {},
   "source": [
    "# 5 Questions this dataset will attempt to answer"
   ]
  },
  {
   "cell_type": "markdown",
   "metadata": {},
   "source": [
    "## 1.  Based on wieght/ and distance to the sun, is this object  an astroid or a comet?"
   ]
  },
  {
   "cell_type": "markdown",
   "metadata": {},
   "source": [
    "### This is important for the next steps as the composition affects the amount of power ( expresed as TNT blast force) the impact might have as well as how much it burns up in the atmosphere"
   ]
  },
  {
   "cell_type": "markdown",
   "metadata": {},
   "source": [
    "## 2. Which of the larger comets and astroids are not in the expected position in the solar system?"
   ]
  },
  {
   "cell_type": "markdown",
   "metadata": {},
   "source": [
    "### Important as the objects should be near or in the astroid belt surrounding Jupiter, If they arent it poses a grater threat of distruction"
   ]
  },
  {
   "cell_type": "markdown",
   "metadata": {},
   "source": [
    "## 3. How fast are the objects traveling ?  "
   ]
  },
  {
   "cell_type": "markdown",
   "metadata": {},
   "source": [
    "### Important as this is has another direct correlation to the amount of force it can impact with, or if it can be deflected(deflection optional)"
   ]
  },
  {
   "cell_type": "markdown",
   "metadata": {},
   "source": [
    "## 4.  Classification : Is this object one that can destroy a city based on weight, speed and composition"
   ]
  },
  {
   "cell_type": "markdown",
   "metadata": {},
   "source": [
    "### A classification task due to several factors that affect these"
   ]
  },
  {
   "cell_type": "markdown",
   "metadata": {},
   "source": [
    "## 5. What to do next!  Based on where it strikes or how early it's detected, what can we do to minimize the amount of deaths this might cause?"
   ]
  },
  {
   "cell_type": "markdown",
   "metadata": {},
   "source": [
    "###  This wil take into account that if one hits in water it might cuase a tidal wave, or one might hit on land and basically cause a bom like explosion( wil not take into account the dust cloud, since i have neither the time nor the paitence or another dat set to analize that due to commit or astroid vaporization"
   ]
  }
 ],
 "metadata": {
  "kernelspec": {
   "display_name": "Python 3",
   "language": "python",
   "name": "python3"
  },
  "language_info": {
   "codemirror_mode": {
    "name": "ipython",
    "version": 3
   },
   "file_extension": ".py",
   "mimetype": "text/x-python",
   "name": "python",
   "nbconvert_exporter": "python",
   "pygments_lexer": "ipython3",
   "version": "3.6.3"
  }
 },
 "nbformat": 4,
 "nbformat_minor": 2
}
